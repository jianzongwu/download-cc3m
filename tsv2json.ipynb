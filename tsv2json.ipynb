{
 "cells": [
  {
   "cell_type": "code",
   "execution_count": 1,
   "metadata": {},
   "outputs": [],
   "source": [
    "import pandas as pd"
   ]
  },
  {
   "cell_type": "code",
   "execution_count": 2,
   "metadata": {},
   "outputs": [],
   "source": [
    "data = pd.read_csv('./downloaded_training_report.tsv', sep='\\t', header=None)"
   ]
  },
  {
   "cell_type": "code",
   "execution_count": 3,
   "metadata": {},
   "outputs": [],
   "source": [
    "data.columns = ['caption', 'file_name', 'folder', 'height', 'id', 'status', 'url', 'width']"
   ]
  },
  {
   "cell_type": "code",
   "execution_count": 4,
   "metadata": {},
   "outputs": [],
   "source": [
    "data = data[['file_name', 'id', 'caption', 'height', 'width']]"
   ]
  },
  {
   "cell_type": "code",
   "execution_count": 5,
   "metadata": {},
   "outputs": [
    {
     "data": {
      "text/html": [
       "<div>\n",
       "<style scoped>\n",
       "    .dataframe tbody tr th:only-of-type {\n",
       "        vertical-align: middle;\n",
       "    }\n",
       "\n",
       "    .dataframe tbody tr th {\n",
       "        vertical-align: top;\n",
       "    }\n",
       "\n",
       "    .dataframe thead th {\n",
       "        text-align: right;\n",
       "    }\n",
       "</style>\n",
       "<table border=\"1\" class=\"dataframe\">\n",
       "  <thead>\n",
       "    <tr style=\"text-align: right;\">\n",
       "      <th></th>\n",
       "      <th>file_name</th>\n",
       "      <th>id</th>\n",
       "      <th>caption</th>\n",
       "      <th>height</th>\n",
       "      <th>width</th>\n",
       "    </tr>\n",
       "  </thead>\n",
       "  <tbody>\n",
       "    <tr>\n",
       "      <th>0</th>\n",
       "      <td>NaN</td>\n",
       "      <td>NaN</td>\n",
       "      <td>a very typical bus station</td>\n",
       "      <td>NaN</td>\n",
       "      <td>NaN</td>\n",
       "    </tr>\n",
       "    <tr>\n",
       "      <th>1</th>\n",
       "      <td>NaN</td>\n",
       "      <td>NaN</td>\n",
       "      <td>sierra looked stunning in this top and this sk...</td>\n",
       "      <td>NaN</td>\n",
       "      <td>NaN</td>\n",
       "    </tr>\n",
       "    <tr>\n",
       "      <th>2</th>\n",
       "      <td>3.jpg</td>\n",
       "      <td>3.0</td>\n",
       "      <td>young confused girl standing in front of a war...</td>\n",
       "      <td>612.0</td>\n",
       "      <td>490.0</td>\n",
       "    </tr>\n",
       "    <tr>\n",
       "      <th>3</th>\n",
       "      <td>NaN</td>\n",
       "      <td>NaN</td>\n",
       "      <td>interior design of modern living room with fir...</td>\n",
       "      <td>NaN</td>\n",
       "      <td>NaN</td>\n",
       "    </tr>\n",
       "    <tr>\n",
       "      <th>4</th>\n",
       "      <td>NaN</td>\n",
       "      <td>NaN</td>\n",
       "      <td>cybernetic scene isolated on white background .</td>\n",
       "      <td>NaN</td>\n",
       "      <td>NaN</td>\n",
       "    </tr>\n",
       "    <tr>\n",
       "      <th>...</th>\n",
       "      <td>...</td>\n",
       "      <td>...</td>\n",
       "      <td>...</td>\n",
       "      <td>...</td>\n",
       "      <td>...</td>\n",
       "    </tr>\n",
       "    <tr>\n",
       "      <th>3318328</th>\n",
       "      <td>3318329.jpg</td>\n",
       "      <td>3318329.0</td>\n",
       "      <td>the teams line up for a photo after kick - off</td>\n",
       "      <td>600.0</td>\n",
       "      <td>962.0</td>\n",
       "    </tr>\n",
       "    <tr>\n",
       "      <th>3318329</th>\n",
       "      <td>3318330.jpg</td>\n",
       "      <td>3318330.0</td>\n",
       "      <td>stickers given to delegates at the convention .</td>\n",
       "      <td>900.0</td>\n",
       "      <td>900.0</td>\n",
       "    </tr>\n",
       "    <tr>\n",
       "      <th>3318330</th>\n",
       "      <td>NaN</td>\n",
       "      <td>NaN</td>\n",
       "      <td>this is my very favourite design that i recent...</td>\n",
       "      <td>NaN</td>\n",
       "      <td>NaN</td>\n",
       "    </tr>\n",
       "    <tr>\n",
       "      <th>3318331</th>\n",
       "      <td>3318332.jpg</td>\n",
       "      <td>3318332.0</td>\n",
       "      <td>man driving a car through the mountains</td>\n",
       "      <td>433.0</td>\n",
       "      <td>650.0</td>\n",
       "    </tr>\n",
       "    <tr>\n",
       "      <th>3318332</th>\n",
       "      <td>3318333.jpg</td>\n",
       "      <td>3318333.0</td>\n",
       "      <td>a longtail boat with a flag goes by spectacula...</td>\n",
       "      <td>444.0</td>\n",
       "      <td>640.0</td>\n",
       "    </tr>\n",
       "  </tbody>\n",
       "</table>\n",
       "<p>3318333 rows × 5 columns</p>\n",
       "</div>"
      ],
      "text/plain": [
       "           file_name         id  \\\n",
       "0                NaN        NaN   \n",
       "1                NaN        NaN   \n",
       "2              3.jpg        3.0   \n",
       "3                NaN        NaN   \n",
       "4                NaN        NaN   \n",
       "...              ...        ...   \n",
       "3318328  3318329.jpg  3318329.0   \n",
       "3318329  3318330.jpg  3318330.0   \n",
       "3318330          NaN        NaN   \n",
       "3318331  3318332.jpg  3318332.0   \n",
       "3318332  3318333.jpg  3318333.0   \n",
       "\n",
       "                                                   caption  height  width  \n",
       "0                               a very typical bus station     NaN    NaN  \n",
       "1        sierra looked stunning in this top and this sk...     NaN    NaN  \n",
       "2        young confused girl standing in front of a war...   612.0  490.0  \n",
       "3        interior design of modern living room with fir...     NaN    NaN  \n",
       "4          cybernetic scene isolated on white background .     NaN    NaN  \n",
       "...                                                    ...     ...    ...  \n",
       "3318328     the teams line up for a photo after kick - off   600.0  962.0  \n",
       "3318329    stickers given to delegates at the convention .   900.0  900.0  \n",
       "3318330  this is my very favourite design that i recent...     NaN    NaN  \n",
       "3318331            man driving a car through the mountains   433.0  650.0  \n",
       "3318332  a longtail boat with a flag goes by spectacula...   444.0  640.0  \n",
       "\n",
       "[3318333 rows x 5 columns]"
      ]
     },
     "execution_count": 5,
     "metadata": {},
     "output_type": "execute_result"
    }
   ],
   "source": [
    "data"
   ]
  },
  {
   "cell_type": "code",
   "execution_count": 6,
   "metadata": {},
   "outputs": [],
   "source": [
    "data = data[data['id'].notna()]"
   ]
  },
  {
   "cell_type": "code",
   "execution_count": 7,
   "metadata": {},
   "outputs": [
    {
     "data": {
      "text/html": [
       "<div>\n",
       "<style scoped>\n",
       "    .dataframe tbody tr th:only-of-type {\n",
       "        vertical-align: middle;\n",
       "    }\n",
       "\n",
       "    .dataframe tbody tr th {\n",
       "        vertical-align: top;\n",
       "    }\n",
       "\n",
       "    .dataframe thead th {\n",
       "        text-align: right;\n",
       "    }\n",
       "</style>\n",
       "<table border=\"1\" class=\"dataframe\">\n",
       "  <thead>\n",
       "    <tr style=\"text-align: right;\">\n",
       "      <th></th>\n",
       "      <th>file_name</th>\n",
       "      <th>id</th>\n",
       "      <th>caption</th>\n",
       "      <th>height</th>\n",
       "      <th>width</th>\n",
       "    </tr>\n",
       "  </thead>\n",
       "  <tbody>\n",
       "    <tr>\n",
       "      <th>2</th>\n",
       "      <td>3.jpg</td>\n",
       "      <td>3.0</td>\n",
       "      <td>young confused girl standing in front of a war...</td>\n",
       "      <td>612.0</td>\n",
       "      <td>490.0</td>\n",
       "    </tr>\n",
       "    <tr>\n",
       "      <th>5</th>\n",
       "      <td>6.jpg</td>\n",
       "      <td>6.0</td>\n",
       "      <td>gangsta rap artist attends sports team vs play...</td>\n",
       "      <td>1024.0</td>\n",
       "      <td>645.0</td>\n",
       "    </tr>\n",
       "    <tr>\n",
       "      <th>6</th>\n",
       "      <td>7.jpg</td>\n",
       "      <td>7.0</td>\n",
       "      <td>the jetty : different types of plants to estab...</td>\n",
       "      <td>678.0</td>\n",
       "      <td>1200.0</td>\n",
       "    </tr>\n",
       "    <tr>\n",
       "      <th>8</th>\n",
       "      <td>9.jpg</td>\n",
       "      <td>9.0</td>\n",
       "      <td># of the sports team skates against sports tea...</td>\n",
       "      <td>612.0</td>\n",
       "      <td>491.0</td>\n",
       "    </tr>\n",
       "    <tr>\n",
       "      <th>13</th>\n",
       "      <td>14.jpg</td>\n",
       "      <td>14.0</td>\n",
       "      <td>actor arrives for the premiere of the film</td>\n",
       "      <td>612.0</td>\n",
       "      <td>408.0</td>\n",
       "    </tr>\n",
       "    <tr>\n",
       "      <th>...</th>\n",
       "      <td>...</td>\n",
       "      <td>...</td>\n",
       "      <td>...</td>\n",
       "      <td>...</td>\n",
       "      <td>...</td>\n",
       "    </tr>\n",
       "    <tr>\n",
       "      <th>3318326</th>\n",
       "      <td>3318327.jpg</td>\n",
       "      <td>3318327.0</td>\n",
       "      <td>historical illustration of the visit .</td>\n",
       "      <td>460.0</td>\n",
       "      <td>640.0</td>\n",
       "    </tr>\n",
       "    <tr>\n",
       "      <th>3318328</th>\n",
       "      <td>3318329.jpg</td>\n",
       "      <td>3318329.0</td>\n",
       "      <td>the teams line up for a photo after kick - off</td>\n",
       "      <td>600.0</td>\n",
       "      <td>962.0</td>\n",
       "    </tr>\n",
       "    <tr>\n",
       "      <th>3318329</th>\n",
       "      <td>3318330.jpg</td>\n",
       "      <td>3318330.0</td>\n",
       "      <td>stickers given to delegates at the convention .</td>\n",
       "      <td>900.0</td>\n",
       "      <td>900.0</td>\n",
       "    </tr>\n",
       "    <tr>\n",
       "      <th>3318331</th>\n",
       "      <td>3318332.jpg</td>\n",
       "      <td>3318332.0</td>\n",
       "      <td>man driving a car through the mountains</td>\n",
       "      <td>433.0</td>\n",
       "      <td>650.0</td>\n",
       "    </tr>\n",
       "    <tr>\n",
       "      <th>3318332</th>\n",
       "      <td>3318333.jpg</td>\n",
       "      <td>3318333.0</td>\n",
       "      <td>a longtail boat with a flag goes by spectacula...</td>\n",
       "      <td>444.0</td>\n",
       "      <td>640.0</td>\n",
       "    </tr>\n",
       "  </tbody>\n",
       "</table>\n",
       "<p>1861382 rows × 5 columns</p>\n",
       "</div>"
      ],
      "text/plain": [
       "           file_name         id  \\\n",
       "2              3.jpg        3.0   \n",
       "5              6.jpg        6.0   \n",
       "6              7.jpg        7.0   \n",
       "8              9.jpg        9.0   \n",
       "13            14.jpg       14.0   \n",
       "...              ...        ...   \n",
       "3318326  3318327.jpg  3318327.0   \n",
       "3318328  3318329.jpg  3318329.0   \n",
       "3318329  3318330.jpg  3318330.0   \n",
       "3318331  3318332.jpg  3318332.0   \n",
       "3318332  3318333.jpg  3318333.0   \n",
       "\n",
       "                                                   caption  height   width  \n",
       "2        young confused girl standing in front of a war...   612.0   490.0  \n",
       "5        gangsta rap artist attends sports team vs play...  1024.0   645.0  \n",
       "6        the jetty : different types of plants to estab...   678.0  1200.0  \n",
       "8        # of the sports team skates against sports tea...   612.0   491.0  \n",
       "13              actor arrives for the premiere of the film   612.0   408.0  \n",
       "...                                                    ...     ...     ...  \n",
       "3318326             historical illustration of the visit .   460.0   640.0  \n",
       "3318328     the teams line up for a photo after kick - off   600.0   962.0  \n",
       "3318329    stickers given to delegates at the convention .   900.0   900.0  \n",
       "3318331            man driving a car through the mountains   433.0   650.0  \n",
       "3318332  a longtail boat with a flag goes by spectacula...   444.0   640.0  \n",
       "\n",
       "[1861382 rows x 5 columns]"
      ]
     },
     "execution_count": 7,
     "metadata": {},
     "output_type": "execute_result"
    }
   ],
   "source": [
    "data"
   ]
  },
  {
   "cell_type": "code",
   "execution_count": 8,
   "metadata": {},
   "outputs": [],
   "source": [
    "import json\n",
    "lvis_info = '/data00/lvis/lvis_v1_val.json'\n",
    "categories = json.load(open(lvis_info, 'r'))['categories']"
   ]
  },
  {
   "cell_type": "code",
   "execution_count": 9,
   "metadata": {},
   "outputs": [
    {
     "data": {
      "text/plain": [
       "file_name                                                3.jpg\n",
       "id                                                         3.0\n",
       "caption      young confused girl standing in front of a war...\n",
       "height                                                   612.0\n",
       "width                                                    490.0\n",
       "Name: 2, dtype: object"
      ]
     },
     "execution_count": 9,
     "metadata": {},
     "output_type": "execute_result"
    }
   ],
   "source": [
    "data.iloc[0]"
   ]
  },
  {
   "cell_type": "code",
   "execution_count": 10,
   "metadata": {},
   "outputs": [
    {
     "name": "stderr",
     "output_type": "stream",
     "text": [
      "100%|██████████| 1861382/1861382 [03:08<00:00, 9880.96it/s] \n"
     ]
    }
   ],
   "source": [
    "from tqdm import tqdm\n",
    "images = []\n",
    "for i in tqdm(range(len(data))):\n",
    "    image_info = {\n",
    "        'id': int(data.iloc[i, 1]),\n",
    "        'file_name': data.iloc[i, 0],\n",
    "        'height': int(data.iloc[i, 3]),\n",
    "        'width': int(data.iloc[i, 4]),\n",
    "        'captions': [data.iloc[i, 2]],\n",
    "    }\n",
    "    images.append(image_info)"
   ]
  },
  {
   "cell_type": "code",
   "execution_count": 11,
   "metadata": {},
   "outputs": [],
   "source": [
    "data_json = {'categories': categories, 'images': images, 'annotations': []}"
   ]
  },
  {
   "cell_type": "code",
   "execution_count": 12,
   "metadata": {},
   "outputs": [],
   "source": [
    "json.dump(data_json, open('../cc3m_train_info.json', 'w'))"
   ]
  }
 ],
 "metadata": {
  "kernelspec": {
   "display_name": "mmlab",
   "language": "python",
   "name": "python3"
  },
  "language_info": {
   "codemirror_mode": {
    "name": "ipython",
    "version": 3
   },
   "file_extension": ".py",
   "mimetype": "text/x-python",
   "name": "python",
   "nbconvert_exporter": "python",
   "pygments_lexer": "ipython3",
   "version": "3.8.13 (default, Mar 28 2022, 11:38:47) \n[GCC 7.5.0]"
  },
  "orig_nbformat": 4,
  "vscode": {
   "interpreter": {
    "hash": "a2b470eb75d5a13e6248f2a3edbacd9fcc71b26ce200344de9ef4458e337f040"
   }
  }
 },
 "nbformat": 4,
 "nbformat_minor": 2
}
